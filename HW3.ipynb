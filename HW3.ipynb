{
  "nbformat": 4,
  "nbformat_minor": 0,
  "metadata": {
    "colab": {
      "provenance": [],
      "authorship_tag": "ABX9TyMpGExL27bEHBD7FUFHYVbp",
      "include_colab_link": true
    },
    "kernelspec": {
      "name": "python3",
      "display_name": "Python 3"
    },
    "language_info": {
      "name": "python"
    }
  },
  "cells": [
    {
      "cell_type": "markdown",
      "metadata": {
        "id": "view-in-github",
        "colab_type": "text"
      },
      "source": [
        "<a href=\"https://colab.research.google.com/github/Danil-Kazakov/Data-HW3/blob/main/HW3.ipynb\" target=\"_parent\"><img src=\"https://colab.research.google.com/assets/colab-badge.svg\" alt=\"Open In Colab\"/></a>"
      ]
    },
    {
      "cell_type": "code",
      "execution_count": 14,
      "metadata": {
        "id": "L1MPOqhc7nIU"
      },
      "outputs": [],
      "source": [
        "import numpy as np\n",
        "import pandas as pd\n",
        "import matplotlib.pyplot as plt"
      ]
    },
    {
      "cell_type": "markdown",
      "source": [
        "напишіть функцію гіпотези лінійної регресії у векторному вигляді;\n"
      ],
      "metadata": {
        "id": "M1_GxCps9Z6E"
      }
    },
    {
      "cell_type": "code",
      "source": [
        "def h(weight, sample_x):\n",
        "  assert len(weight) == len(sample_x)+1\n",
        "  x = np.concatenate(([1],sample_x)).astype('int64')\n",
        "  w = np.array(weight)\n",
        "  return np.dot(x,w)\n",
        "\n",
        "weights = [0.5, 1.5, -2.0]\n",
        "sample_x = [2, 3]\n",
        "expected_result = -2.5\n",
        "result = h(weights, sample_x)\n",
        "\n",
        "print(\"Результат гіпотези:\", result)\n",
        "print(\"Очікуваний результат:\", expected_result)\n"
      ],
      "metadata": {
        "colab": {
          "base_uri": "https://localhost:8080/"
        },
        "id": "3ju_iL1u9BYy",
        "outputId": "577f024f-19c8-4680-e966-a89245e6385b"
      },
      "execution_count": 24,
      "outputs": [
        {
          "output_type": "stream",
          "name": "stdout",
          "text": [
            "Результат гіпотези: -2.5\n",
            "Очікуваний результат: -2.5\n"
          ]
        }
      ]
    },
    {
      "cell_type": "markdown",
      "source": [
        "створіть функцію для обчислення функції втрат у векторному вигляді"
      ],
      "metadata": {
        "id": "KxZD7xhE-aWw"
      }
    },
    {
      "cell_type": "code",
      "source": [
        "def func(weight, df, columns):\n",
        "    m = df.shape[0]\n",
        "    cost = 0\n",
        "    for y, *features in zip(*[df[column] for column in columns]):\n",
        "        cost += (h(weight, features) - y)**2\n",
        "    return cost / (2 * m)"
      ],
      "metadata": {
        "id": "wvi3vRpo-fYH"
      },
      "execution_count": 25,
      "outputs": []
    },
    {
      "cell_type": "markdown",
      "source": [
        "реалізуйте один крок градієнтного спуску;"
      ],
      "metadata": {
        "id": "t-miq_Fx_W4b"
      }
    },
    {
      "cell_type": "code",
      "source": [
        "def gradient_descent_step(X, y, theta, alpha):\n",
        "    m = len(y)\n",
        "    predictions = hypothesis(X, theta)\n",
        "    error = predictions - y\n",
        "    gradient = (1 / m) * np.dot(X.T, error)\n",
        "    theta = theta - alpha * gradient\n",
        "    return theta\n",
        "\n",
        "X = np.array([\n",
        "    [1, 1],\n",
        "    [1, 2],\n",
        "    [1, 3]\n",
        "])\n",
        "y = np.array([1, 2, 3])\n",
        "\n",
        "theta = np.array([0.5, 1.5])\n",
        "\n",
        "alpha = 0.01\n",
        "\n",
        "theta = gradient_descent_step(X, y, theta, alpha)\n",
        "\n",
        "print(\"Оновлений вектор параметрів (theta):\")\n",
        "print(theta)"
      ],
      "metadata": {
        "colab": {
          "base_uri": "https://localhost:8080/"
        },
        "id": "lvM31NYZ_XBA",
        "outputId": "57bc747a-4b13-4e44-fc65-94cf69d2a191"
      },
      "execution_count": 26,
      "outputs": [
        {
          "output_type": "stream",
          "name": "stdout",
          "text": [
            "Оновлений вектор параметрів (theta):\n",
            "[0.485      1.46666667]\n"
          ]
        }
      ]
    },
    {
      "cell_type": "markdown",
      "source": [
        "знайдіть найкращі параметри w для датасету прогнозуючу ціну на будинок залежно від площі, кількості ванних кімнат та кількості спалень;"
      ],
      "metadata": {
        "id": "PvOE6MoRC5Cj"
      }
    },
    {
      "cell_type": "code",
      "source": [
        "import numpy as np\n",
        "import pandas as pd\n",
        "import matplotlib.pyplot as plt\n",
        "\n",
        "data = {\n",
        "    'price': [13300000, 12250000, 12250000, 12215000, 11410000],\n",
        "    'area': [7420, 8960, 9960, 7500, 7420],\n",
        "    'bedrooms': [4, 4, 3, 4, 4],\n",
        "    'bathrooms': [2, 4, 2, 2, 1]\n",
        "}\n",
        "\n",
        "df = pd.DataFrame(data)\n",
        "\n",
        "X = df[['area', 'bedrooms', 'bathrooms']].values\n",
        "y = df['price'].values\n",
        "\n",
        "X = np.concatenate([np.ones((X.shape[0], 1)), X], axis=1)\n",
        "\n",
        "X_mean = np.mean(X, axis=0)\n",
        "X_std = np.std(X, axis=0)\n",
        "X_std[X_std == 0] = 1\n",
        "X = (X - X_mean) / X_std\n",
        "\n",
        "y_mean = np.mean(y)\n",
        "y_std = np.std(y)\n",
        "if y_std == 0:\n",
        "    y_std = 1\n",
        "y = (y - y_mean) / y_std\n",
        "\n",
        "def h(X, theta):\n",
        "    return np.dot(X, theta)\n",
        "\n",
        "def compute_cost(X, y, theta):\n",
        "    m = len(y)\n",
        "    cost = (1/(2*m)) * np.sum((h(X, theta) - y)**2)\n",
        "    return cost\n",
        "\n",
        "def gradient_descent(X, y, theta, alpha, num_iters):\n",
        "    m = len(y)\n",
        "    cost_history = np.zeros(num_iters)\n",
        "\n",
        "    for i in range(num_iters):\n",
        "        gradient = (1/m) * np.dot(X.T, (h(X, theta) - y))\n",
        "        theta = theta - alpha * gradient\n",
        "        cost_history[i] = compute_cost(X, y, theta)\n",
        "\n",
        "    return theta, cost_history\n",
        "\n",
        "alpha = 0.01\n",
        "num_iters = 1000\n",
        "\n",
        "theta = np.zeros(X.shape[1])\n",
        "\n",
        "theta_grad, cost_history = gradient_descent(X, y, theta, alpha, num_iters)\n",
        "\n",
        "print(\"Знайдені параметри (градієнтний спуск):\", theta_grad)\n",
        "\n",
        "plt.plot(range(num_iters), cost_history, 'b')\n",
        "plt.xlabel('Кількість ітерацій')\n",
        "plt.ylabel('Функція вартості')\n",
        "plt.title('Збіжність градієнтного спуску')\n",
        "plt.show()\n",
        "\n",
        "y_pred_grad = h(X, theta_grad) * y_std + y_mean\n",
        "\n",
        "print(\"Прогнозовані ціни (градієнтний спуск):\", y_pred_grad)\n"
      ],
      "metadata": {
        "colab": {
          "base_uri": "https://localhost:8080/",
          "height": 523
        },
        "id": "RWJe1droGXtw",
        "outputId": "dad5ce8a-16a9-49f8-c7d1-0a54ab58bf80"
      },
      "execution_count": 36,
      "outputs": [
        {
          "output_type": "stream",
          "name": "stdout",
          "text": [
            "Знайдені параметри (градієнтний спуск): [ 0.         -0.71471799 -0.56222321  0.61103257]\n"
          ]
        },
        {
          "output_type": "display_data",
          "data": {
            "text/plain": [
              "<Figure size 640x480 with 1 Axes>"
            ],
            "image/png": "[encoded data removed]"
          },
          "metadata": {}
        },
        {
          "output_type": "stream",
          "name": "stdout",
          "text": [
            "Прогнозовані ціни (градієнтний спуск): [12385911.77038687 12497036.99018031 12177877.25080734 12352774.17582202\n",
            " 12011399.81280347]\n"
          ]
        }
      ]
    },
    {
      "cell_type": "markdown",
      "source": [
        "знайдіть ці ж параметри за допомогою аналітичного рішення"
      ],
      "metadata": {
        "id": "gMl3Zw_nHJqW"
      }
    },
    {
      "cell_type": "code",
      "source": [
        "data = {\n",
        "    'price': [13300000, 12250000, 12250000, 12215000, 11410000],\n",
        "    'area': [7420, 8960, 9960, 7500, 7420],\n",
        "    'bedrooms': [4, 4, 3, 4, 4],\n",
        "    'bathrooms': [2, 4, 2, 2, 1]\n",
        "}\n",
        "\n",
        "df = pd.DataFrame(data)\n",
        "\n",
        "X = df[['area', 'bedrooms', 'bathrooms']].values\n",
        "y = df['price'].values\n",
        "\n",
        "X = np.concatenate([np.ones((X.shape[0], 1)), X], axis=1)\n",
        "\n",
        "theta_analytical = np.linalg.pinv(X.T @ X) @ X.T @ y\n",
        "\n",
        "print(\"Знайдені параметри (аналітичне рішення):\", theta_analytical)\n",
        "\n",
        "y_pred_analytical = np.dot(X, theta_analytical)\n",
        "\n",
        "print(\"Прогнозовані ціни (аналітичне рішення):\", y_pred_analytical)\n",
        "\n"
      ],
      "metadata": {
        "colab": {
          "base_uri": "https://localhost:8080/"
        },
        "id": "JeuZUDeGGcqF",
        "outputId": "38251621-0f48-4150-e66a-e9547668ca69"
      },
      "execution_count": 38,
      "outputs": [
        {
          "output_type": "stream",
          "name": "stdout",
          "text": [
            "Знайдені параметри (аналітичне рішення): [ 4.98594118e+07 -2.42322162e+03 -5.51290015e+06  1.53228796e+06]\n",
            "Прогнозовані ціни (аналітичне рішення): [12892082.76432865 12224897.40016315 12250000.00020869 12698225.03487663\n",
            " 11359794.8004357 ]\n"
          ]
        }
      ]
    },
    {
      "cell_type": "markdown",
      "source": [
        "порівняйте отримані результати"
      ],
      "metadata": {
        "id": "ElAK4gDMHQWM"
      }
    },
    {
      "cell_type": "code",
      "source": [
        "print(\"Порівняння параметрів:\")\n",
        "print(\"Градієнтний спуск:\", theta_grad)\n",
        "print(\"Аналітичне рішення:\", theta_analytical)\n",
        "\n",
        "print(\"Порівняння прогнозованих цін:\")\n",
        "print(\"Градієнтний спуск:\", y_pred_grad)\n",
        "print(\"Аналітичне рішення:\", y_pred_analytical)\n"
      ],
      "metadata": {
        "colab": {
          "base_uri": "https://localhost:8080/"
        },
        "id": "ezsRb3J1Gebp",
        "outputId": "27a276b3-4f9b-479a-fcbf-925506287a71"
      },
      "execution_count": 39,
      "outputs": [
        {
          "output_type": "stream",
          "name": "stdout",
          "text": [
            "Порівняння параметрів:\n",
            "Градієнтний спуск: [ 0.         -0.71471799 -0.56222321  0.61103257]\n",
            "Аналітичне рішення: [ 4.98594118e+07 -2.42322162e+03 -5.51290015e+06  1.53228796e+06]\n",
            "Порівняння прогнозованих цін:\n",
            "Градієнтний спуск: [12385911.77038687 12497036.99018031 12177877.25080734 12352774.17582202\n",
            " 12011399.81280347]\n",
            "Аналітичне рішення: [12892082.76432865 12224897.40016315 12250000.00020869 12698225.03487663\n",
            " 11359794.8004357 ]\n"
          ]
        }
      ]
    }
  ]
}